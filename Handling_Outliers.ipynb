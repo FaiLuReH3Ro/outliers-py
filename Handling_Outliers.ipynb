{
 "cells": [
  {
   "cell_type": "markdown",
   "id": "ba0186d0",
   "metadata": {
    "papermill": {
     "duration": 0.006108,
     "end_time": "2025-09-02T04:05:47.456736",
     "exception": false,
     "start_time": "2025-09-02T04:05:47.450628",
     "status": "completed"
    },
    "tags": []
   },
   "source": [
    "# **Handling Outliers**\n",
    "\n",
    "In this section, I addressed outliers to improve the variance in the compensation data. I used Python, Pandas, SQL, and SQLite in a Jupyter Notebook to load the clean dataset into a database and identify outliers in the two compensation columns. Outliers were removed to ensure better visualizations, and the results were stored in a separate database table for future use. I visualized the no-outlier data with histograms, bar charts, and boxplots to better understand the distribution of the compensation data.\n",
    "\n",
    "## Repository\n",
    "\n",
    "Check out the repository on [GitHub](https://github.com/FaiLuReH3Ro/outliers-py) for more details.\n",
    "\n",
    "## Dataset Used\n",
    "\n",
    "I am going to use the [clean survey data](https://www.kaggle.com/datasets/failureh3ro/stack-overflow-survey-2024-cleaned-data/data) file I exported at the end of the [data wrangling](https://www.kaggle.com/code/failureh3ro/data-wrangling-python) process.\n",
    "\n",
    "## Objectives \n",
    "\n",
    "* Connect to a SQLite database\n",
    "* Load the dataset into the database as a table\n",
    "* Find outliers in the compensation columns\n",
    "* Remove outliers for better visualizations\n",
    "* Store results in different tables in the database"
   ]
  },
  {
   "cell_type": "markdown",
   "id": "58ea72a3",
   "metadata": {
    "papermill": {
     "duration": 0.004383,
     "end_time": "2025-09-02T04:05:47.466346",
     "exception": false,
     "start_time": "2025-09-02T04:05:47.461963",
     "status": "completed"
    },
    "tags": []
   },
   "source": [
    "## Download and Import Libraries"
   ]
  },
  {
   "cell_type": "code",
   "execution_count": 1,
   "id": "7cc57ba8",
   "metadata": {
    "execution": {
     "iopub.execute_input": "2025-09-02T04:05:47.476692Z",
     "iopub.status.busy": "2025-09-02T04:05:47.476395Z",
     "iopub.status.idle": "2025-09-02T04:05:47.480477Z",
     "shell.execute_reply": "2025-09-02T04:05:47.479831Z"
    },
    "papermill": {
     "duration": 0.010717,
     "end_time": "2025-09-02T04:05:47.481606",
     "exception": false,
     "start_time": "2025-09-02T04:05:47.470889",
     "status": "completed"
    },
    "tags": []
   },
   "outputs": [],
   "source": [
    "# Run this cell if the libraries are not installed\n",
    "# Uncomment the lines below to install\n",
    "# %pip install pandas\n",
    "# %pip install matplotlib\n",
    "# %pip install seaborn\n",
    "# %pip install sqlite3"
   ]
  },
  {
   "cell_type": "code",
   "execution_count": 2,
   "id": "e65bece0",
   "metadata": {
    "execution": {
     "iopub.execute_input": "2025-09-02T04:05:47.493140Z",
     "iopub.status.busy": "2025-09-02T04:05:47.492406Z",
     "iopub.status.idle": "2025-09-02T04:05:50.848925Z",
     "shell.execute_reply": "2025-09-02T04:05:50.847699Z"
    },
    "papermill": {
     "duration": 3.363568,
     "end_time": "2025-09-02T04:05:50.850512",
     "exception": false,
     "start_time": "2025-09-02T04:05:47.486944",
     "status": "completed"
    },
    "tags": []
   },
   "outputs": [],
   "source": [
    "import pandas as pd\n",
    "import matplotlib.pyplot as plt\n",
    "import seaborn as sns\n",
    "import sqlite3\n",
    "\n",
    "# Suppress warnings\n",
    "# Comment before running to view warnings\n",
    "import warnings\n",
    "warnings.filterwarnings(\"ignore\")"
   ]
  },
  {
   "cell_type": "markdown",
   "id": "e58929d6",
   "metadata": {
    "papermill": {
     "duration": 0.00452,
     "end_time": "2025-09-02T04:05:50.860230",
     "exception": false,
     "start_time": "2025-09-02T04:05:50.855710",
     "status": "completed"
    },
    "tags": []
   },
   "source": [
    "## Load the dataset\n",
    "\n",
    "> Note: If running this notebook locally, place the `clean_survey_data.csv` file in the same directory or folder as this Jupyter notebook"
   ]
  },
  {
   "cell_type": "code",
   "execution_count": 3,
   "id": "3ad50f95",
   "metadata": {
    "execution": {
     "iopub.execute_input": "2025-09-02T04:05:50.870667Z",
     "iopub.status.busy": "2025-09-02T04:05:50.870273Z",
     "iopub.status.idle": "2025-09-02T04:05:51.810867Z",
     "shell.execute_reply": "2025-09-02T04:05:51.810163Z"
    },
    "papermill": {
     "duration": 0.947261,
     "end_time": "2025-09-02T04:05:51.812099",
     "exception": false,
     "start_time": "2025-09-02T04:05:50.864838",
     "status": "completed"
    },
    "tags": []
   },
   "outputs": [
    {
     "data": {
      "text/html": [
       "<div>\n",
       "<style scoped>\n",
       "    .dataframe tbody tr th:only-of-type {\n",
       "        vertical-align: middle;\n",
       "    }\n",
       "\n",
       "    .dataframe tbody tr th {\n",
       "        vertical-align: top;\n",
       "    }\n",
       "\n",
       "    .dataframe thead th {\n",
       "        text-align: right;\n",
       "    }\n",
       "</style>\n",
       "<table border=\"1\" class=\"dataframe\">\n",
       "  <thead>\n",
       "    <tr style=\"text-align: right;\">\n",
       "      <th></th>\n",
       "      <th>ResponseId</th>\n",
       "      <th>MainBranch</th>\n",
       "      <th>Age</th>\n",
       "      <th>Employment</th>\n",
       "      <th>RemoteWork</th>\n",
       "      <th>EdLevel</th>\n",
       "      <th>YearsCode</th>\n",
       "      <th>YearsCode_MinMax</th>\n",
       "      <th>YearsCodePro</th>\n",
       "      <th>ExperienceLevel</th>\n",
       "      <th>YearsCodePro_Zscore</th>\n",
       "      <th>DevType</th>\n",
       "      <th>Country</th>\n",
       "      <th>CompTotal</th>\n",
       "      <th>LanguageHaveWorkedWith</th>\n",
       "      <th>LanguageWantToWorkWith</th>\n",
       "      <th>DatabaseHaveWorkedWith</th>\n",
       "      <th>DatabaseWantToWorkWith</th>\n",
       "      <th>PlatformHaveWorkedWith</th>\n",
       "      <th>PlatformWantToWorkWith</th>\n",
       "      <th>WebframeHaveWorkedWith</th>\n",
       "      <th>WebframeWantToWorkWith</th>\n",
       "      <th>ToolsTechHaveWorkedWith</th>\n",
       "      <th>ToolsTechWantToWorkWith</th>\n",
       "      <th>NEWCollabToolsHaveWorkedWith</th>\n",
       "      <th>NEWCollabToolsWantToWorkWith</th>\n",
       "      <th>WorkExp</th>\n",
       "      <th>ConvertedCompYearly</th>\n",
       "      <th>JobSat</th>\n",
       "    </tr>\n",
       "  </thead>\n",
       "  <tbody>\n",
       "    <tr>\n",
       "      <th>0</th>\n",
       "      <td>2</td>\n",
       "      <td>I am a developer by profession</td>\n",
       "      <td>35-44 years old</td>\n",
       "      <td>Employed, full-time</td>\n",
       "      <td>Remote</td>\n",
       "      <td>Bachelor's degree (B.A., B.S., B.Eng., etc.)</td>\n",
       "      <td>20</td>\n",
       "      <td>0.40</td>\n",
       "      <td>17</td>\n",
       "      <td>Architect</td>\n",
       "      <td>0.812509</td>\n",
       "      <td>Developer, full-stack</td>\n",
       "      <td>United Kingdom of Great Britain and Northern I...</td>\n",
       "      <td>NaN</td>\n",
       "      <td>Bash/Shell (all shells);Go;HTML/CSS;Java;JavaS...</td>\n",
       "      <td>Bash/Shell (all shells);Go;HTML/CSS;Java;JavaS...</td>\n",
       "      <td>Dynamodb;MongoDB;PostgreSQL</td>\n",
       "      <td>PostgreSQL</td>\n",
       "      <td>Amazon Web Services (AWS);Heroku;Netlify</td>\n",
       "      <td>Amazon Web Services (AWS);Heroku;Netlify</td>\n",
       "      <td>Express;Next.js;Node.js;React</td>\n",
       "      <td>Express;Htmx;Node.js;React;Remix</td>\n",
       "      <td>Docker;Homebrew;Kubernetes;npm;Vite;Webpack</td>\n",
       "      <td>Docker;Homebrew;Kubernetes;npm;Vite;Webpack</td>\n",
       "      <td>PyCharm;Visual Studio Code;WebStorm</td>\n",
       "      <td>PyCharm;Visual Studio Code;WebStorm</td>\n",
       "      <td>17.0</td>\n",
       "      <td>NaN</td>\n",
       "      <td>NaN</td>\n",
       "    </tr>\n",
       "    <tr>\n",
       "      <th>1</th>\n",
       "      <td>3</td>\n",
       "      <td>I am a developer by profession</td>\n",
       "      <td>45-54 years old</td>\n",
       "      <td>Employed, full-time</td>\n",
       "      <td>Remote</td>\n",
       "      <td>Master's degree (M.A., M.S., M.Eng., MBA, etc.)</td>\n",
       "      <td>37</td>\n",
       "      <td>0.74</td>\n",
       "      <td>27</td>\n",
       "      <td>Architect</td>\n",
       "      <td>2.010883</td>\n",
       "      <td>Developer Experience</td>\n",
       "      <td>United Kingdom of Great Britain and Northern I...</td>\n",
       "      <td>NaN</td>\n",
       "      <td>C#</td>\n",
       "      <td>C#</td>\n",
       "      <td>Firebase Realtime Database</td>\n",
       "      <td>Firebase Realtime Database</td>\n",
       "      <td>Google Cloud</td>\n",
       "      <td>Google Cloud</td>\n",
       "      <td>ASP.NET CORE</td>\n",
       "      <td>ASP.NET CORE</td>\n",
       "      <td>MSBuild</td>\n",
       "      <td>MSBuild</td>\n",
       "      <td>Visual Studio</td>\n",
       "      <td>Visual Studio</td>\n",
       "      <td>NaN</td>\n",
       "      <td>NaN</td>\n",
       "      <td>NaN</td>\n",
       "    </tr>\n",
       "    <tr>\n",
       "      <th>2</th>\n",
       "      <td>4</td>\n",
       "      <td>I am learning to code</td>\n",
       "      <td>18-24 years old</td>\n",
       "      <td>Student, full-time</td>\n",
       "      <td>Hybrid (some remote, some in-person)</td>\n",
       "      <td>Some college/university study without earning ...</td>\n",
       "      <td>4</td>\n",
       "      <td>0.08</td>\n",
       "      <td>10</td>\n",
       "      <td>Lead</td>\n",
       "      <td>-0.026352</td>\n",
       "      <td>Developer, full-stack</td>\n",
       "      <td>Canada</td>\n",
       "      <td>NaN</td>\n",
       "      <td>C;C++;HTML/CSS;Java;JavaScript;PHP;PowerShell;...</td>\n",
       "      <td>HTML/CSS;Java;JavaScript;PowerShell;Python;SQL...</td>\n",
       "      <td>MongoDB;MySQL;PostgreSQL;SQLite</td>\n",
       "      <td>MongoDB;MySQL;PostgreSQL</td>\n",
       "      <td>Amazon Web Services (AWS);Fly.io;Heroku</td>\n",
       "      <td>Amazon Web Services (AWS);Vercel</td>\n",
       "      <td>jQuery;Next.js;Node.js;React;WordPress</td>\n",
       "      <td>jQuery;Next.js;Node.js;React</td>\n",
       "      <td>Docker;npm;Pip</td>\n",
       "      <td>Docker;Kubernetes;npm</td>\n",
       "      <td>NaN</td>\n",
       "      <td>NaN</td>\n",
       "      <td>NaN</td>\n",
       "      <td>NaN</td>\n",
       "      <td>NaN</td>\n",
       "    </tr>\n",
       "    <tr>\n",
       "      <th>3</th>\n",
       "      <td>5</td>\n",
       "      <td>I am a developer by profession</td>\n",
       "      <td>18-24 years old</td>\n",
       "      <td>Student, full-time</td>\n",
       "      <td>Hybrid (some remote, some in-person)</td>\n",
       "      <td>Secondary school (e.g. American high school, G...</td>\n",
       "      <td>9</td>\n",
       "      <td>0.18</td>\n",
       "      <td>10</td>\n",
       "      <td>Lead</td>\n",
       "      <td>-0.026352</td>\n",
       "      <td>Developer, full-stack</td>\n",
       "      <td>Norway</td>\n",
       "      <td>NaN</td>\n",
       "      <td>C++;HTML/CSS;JavaScript;Lua;Python;Rust</td>\n",
       "      <td>C++;HTML/CSS;JavaScript;Lua;Python</td>\n",
       "      <td>PostgreSQL;SQLite</td>\n",
       "      <td>PostgreSQL;SQLite</td>\n",
       "      <td>NaN</td>\n",
       "      <td>NaN</td>\n",
       "      <td>NaN</td>\n",
       "      <td>NaN</td>\n",
       "      <td>APT;Make;npm</td>\n",
       "      <td>APT;Make</td>\n",
       "      <td>Vim</td>\n",
       "      <td>Vim</td>\n",
       "      <td>NaN</td>\n",
       "      <td>NaN</td>\n",
       "      <td>NaN</td>\n",
       "    </tr>\n",
       "    <tr>\n",
       "      <th>4</th>\n",
       "      <td>6</td>\n",
       "      <td>I code primarily as a hobby</td>\n",
       "      <td>Under 18 years old</td>\n",
       "      <td>Student, full-time</td>\n",
       "      <td>Hybrid (some remote, some in-person)</td>\n",
       "      <td>Primary/elementary school</td>\n",
       "      <td>10</td>\n",
       "      <td>0.20</td>\n",
       "      <td>10</td>\n",
       "      <td>Lead</td>\n",
       "      <td>-0.026352</td>\n",
       "      <td>Student</td>\n",
       "      <td>United States of America</td>\n",
       "      <td>NaN</td>\n",
       "      <td>Bash/Shell (all shells);HTML/CSS;Java;JavaScri...</td>\n",
       "      <td>Bash/Shell (all shells);HTML/CSS;Java;JavaScri...</td>\n",
       "      <td>Cloud Firestore</td>\n",
       "      <td>Cloud Firestore</td>\n",
       "      <td>Cloudflare</td>\n",
       "      <td>Cloudflare</td>\n",
       "      <td>Node.js</td>\n",
       "      <td>Node.js</td>\n",
       "      <td>Docker;Homebrew;npm;Pip;pnpm</td>\n",
       "      <td>Homebrew;npm;Pip;pnpm</td>\n",
       "      <td>Nano;Vim;Visual Studio Code;Xcode</td>\n",
       "      <td>Nano;Vim;Visual Studio Code;Xcode</td>\n",
       "      <td>NaN</td>\n",
       "      <td>NaN</td>\n",
       "      <td>NaN</td>\n",
       "    </tr>\n",
       "  </tbody>\n",
       "</table>\n",
       "</div>"
      ],
      "text/plain": [
       "   ResponseId                      MainBranch                 Age  \\\n",
       "0           2  I am a developer by profession     35-44 years old   \n",
       "1           3  I am a developer by profession     45-54 years old   \n",
       "2           4           I am learning to code     18-24 years old   \n",
       "3           5  I am a developer by profession     18-24 years old   \n",
       "4           6     I code primarily as a hobby  Under 18 years old   \n",
       "\n",
       "            Employment                            RemoteWork  \\\n",
       "0  Employed, full-time                                Remote   \n",
       "1  Employed, full-time                                Remote   \n",
       "2   Student, full-time  Hybrid (some remote, some in-person)   \n",
       "3   Student, full-time  Hybrid (some remote, some in-person)   \n",
       "4   Student, full-time  Hybrid (some remote, some in-person)   \n",
       "\n",
       "                                             EdLevel  YearsCode  \\\n",
       "0       Bachelor's degree (B.A., B.S., B.Eng., etc.)         20   \n",
       "1    Master's degree (M.A., M.S., M.Eng., MBA, etc.)         37   \n",
       "2  Some college/university study without earning ...          4   \n",
       "3  Secondary school (e.g. American high school, G...          9   \n",
       "4                          Primary/elementary school         10   \n",
       "\n",
       "   YearsCode_MinMax  YearsCodePro ExperienceLevel  YearsCodePro_Zscore  \\\n",
       "0              0.40            17       Architect             0.812509   \n",
       "1              0.74            27       Architect             2.010883   \n",
       "2              0.08            10            Lead            -0.026352   \n",
       "3              0.18            10            Lead            -0.026352   \n",
       "4              0.20            10            Lead            -0.026352   \n",
       "\n",
       "                 DevType                                            Country  \\\n",
       "0  Developer, full-stack  United Kingdom of Great Britain and Northern I...   \n",
       "1   Developer Experience  United Kingdom of Great Britain and Northern I...   \n",
       "2  Developer, full-stack                                             Canada   \n",
       "3  Developer, full-stack                                             Norway   \n",
       "4                Student                           United States of America   \n",
       "\n",
       "   CompTotal                             LanguageHaveWorkedWith  \\\n",
       "0        NaN  Bash/Shell (all shells);Go;HTML/CSS;Java;JavaS...   \n",
       "1        NaN                                                 C#   \n",
       "2        NaN  C;C++;HTML/CSS;Java;JavaScript;PHP;PowerShell;...   \n",
       "3        NaN            C++;HTML/CSS;JavaScript;Lua;Python;Rust   \n",
       "4        NaN  Bash/Shell (all shells);HTML/CSS;Java;JavaScri...   \n",
       "\n",
       "                              LanguageWantToWorkWith  \\\n",
       "0  Bash/Shell (all shells);Go;HTML/CSS;Java;JavaS...   \n",
       "1                                                 C#   \n",
       "2  HTML/CSS;Java;JavaScript;PowerShell;Python;SQL...   \n",
       "3                 C++;HTML/CSS;JavaScript;Lua;Python   \n",
       "4  Bash/Shell (all shells);HTML/CSS;Java;JavaScri...   \n",
       "\n",
       "            DatabaseHaveWorkedWith      DatabaseWantToWorkWith  \\\n",
       "0      Dynamodb;MongoDB;PostgreSQL                  PostgreSQL   \n",
       "1       Firebase Realtime Database  Firebase Realtime Database   \n",
       "2  MongoDB;MySQL;PostgreSQL;SQLite    MongoDB;MySQL;PostgreSQL   \n",
       "3                PostgreSQL;SQLite           PostgreSQL;SQLite   \n",
       "4                  Cloud Firestore             Cloud Firestore   \n",
       "\n",
       "                     PlatformHaveWorkedWith  \\\n",
       "0  Amazon Web Services (AWS);Heroku;Netlify   \n",
       "1                              Google Cloud   \n",
       "2   Amazon Web Services (AWS);Fly.io;Heroku   \n",
       "3                                       NaN   \n",
       "4                                Cloudflare   \n",
       "\n",
       "                     PlatformWantToWorkWith  \\\n",
       "0  Amazon Web Services (AWS);Heroku;Netlify   \n",
       "1                              Google Cloud   \n",
       "2          Amazon Web Services (AWS);Vercel   \n",
       "3                                       NaN   \n",
       "4                                Cloudflare   \n",
       "\n",
       "                   WebframeHaveWorkedWith            WebframeWantToWorkWith  \\\n",
       "0           Express;Next.js;Node.js;React  Express;Htmx;Node.js;React;Remix   \n",
       "1                            ASP.NET CORE                      ASP.NET CORE   \n",
       "2  jQuery;Next.js;Node.js;React;WordPress      jQuery;Next.js;Node.js;React   \n",
       "3                                     NaN                               NaN   \n",
       "4                                 Node.js                           Node.js   \n",
       "\n",
       "                       ToolsTechHaveWorkedWith  \\\n",
       "0  Docker;Homebrew;Kubernetes;npm;Vite;Webpack   \n",
       "1                                      MSBuild   \n",
       "2                               Docker;npm;Pip   \n",
       "3                                 APT;Make;npm   \n",
       "4                 Docker;Homebrew;npm;Pip;pnpm   \n",
       "\n",
       "                       ToolsTechWantToWorkWith  \\\n",
       "0  Docker;Homebrew;Kubernetes;npm;Vite;Webpack   \n",
       "1                                      MSBuild   \n",
       "2                        Docker;Kubernetes;npm   \n",
       "3                                     APT;Make   \n",
       "4                        Homebrew;npm;Pip;pnpm   \n",
       "\n",
       "          NEWCollabToolsHaveWorkedWith         NEWCollabToolsWantToWorkWith  \\\n",
       "0  PyCharm;Visual Studio Code;WebStorm  PyCharm;Visual Studio Code;WebStorm   \n",
       "1                        Visual Studio                        Visual Studio   \n",
       "2                                  NaN                                  NaN   \n",
       "3                                  Vim                                  Vim   \n",
       "4    Nano;Vim;Visual Studio Code;Xcode    Nano;Vim;Visual Studio Code;Xcode   \n",
       "\n",
       "   WorkExp  ConvertedCompYearly  JobSat  \n",
       "0     17.0                  NaN     NaN  \n",
       "1      NaN                  NaN     NaN  \n",
       "2      NaN                  NaN     NaN  \n",
       "3      NaN                  NaN     NaN  \n",
       "4      NaN                  NaN     NaN  "
      ]
     },
     "execution_count": 3,
     "metadata": {},
     "output_type": "execute_result"
    }
   ],
   "source": [
    "# Run the top line if running locally\n",
    "# data = pd.read_csv('clean_survey_data.csv')\n",
    "data = pd.read_csv('/kaggle/input/stack-overflow-survey-2024-cleaned-data/clean_survey_data.csv')\n",
    "\n",
    "# Set options to display max columns\n",
    "pd.set_option('display.max_columns', None)\n",
    "\n",
    "# Preview the data\n",
    "data.head()"
   ]
  },
  {
   "cell_type": "markdown",
   "id": "beb67b4f",
   "metadata": {
    "papermill": {
     "duration": 0.005072,
     "end_time": "2025-09-02T04:05:51.822820",
     "exception": false,
     "start_time": "2025-09-02T04:05:51.817748",
     "status": "completed"
    },
    "tags": []
   },
   "source": [
    "## Create a SQLite Database"
   ]
  },
  {
   "cell_type": "code",
   "execution_count": 4,
   "id": "74dc1aac",
   "metadata": {
    "execution": {
     "iopub.execute_input": "2025-09-02T04:05:51.834242Z",
     "iopub.status.busy": "2025-09-02T04:05:51.833954Z",
     "iopub.status.idle": "2025-09-02T04:05:51.839583Z",
     "shell.execute_reply": "2025-09-02T04:05:51.838692Z"
    },
    "papermill": {
     "duration": 0.013172,
     "end_time": "2025-09-02T04:05:51.841123",
     "exception": false,
     "start_time": "2025-09-02T04:05:51.827951",
     "status": "completed"
    },
    "tags": []
   },
   "outputs": [],
   "source": [
    "# Create a connection to the SQLite database named 'survey-data.db'\n",
    "# If running locally, run the top line\n",
    "# conn = sqlite3.connect('survey-data.db')\n",
    "conn = sqlite3.connect('/kaggle/working/survey-data.db')"
   ]
  },
  {
   "cell_type": "code",
   "execution_count": 5,
   "id": "593e54b9",
   "metadata": {
    "execution": {
     "iopub.execute_input": "2025-09-02T04:05:51.853750Z",
     "iopub.status.busy": "2025-09-02T04:05:51.853430Z",
     "iopub.status.idle": "2025-09-02T04:05:52.723246Z",
     "shell.execute_reply": "2025-09-02T04:05:52.722176Z"
    },
    "papermill": {
     "duration": 0.877842,
     "end_time": "2025-09-02T04:05:52.724854",
     "exception": false,
     "start_time": "2025-09-02T04:05:51.847012",
     "status": "completed"
    },
    "tags": []
   },
   "outputs": [
    {
     "data": {
      "text/plain": [
       "59745"
      ]
     },
     "execution_count": 5,
     "metadata": {},
     "output_type": "execute_result"
    }
   ],
   "source": [
    "# Write the dataframe to the SQLite database as a table called 'main'\n",
    "data.to_sql('main', conn, if_exists='replace', index=False)"
   ]
  },
  {
   "cell_type": "code",
   "execution_count": 6,
   "id": "03e56fc9",
   "metadata": {
    "execution": {
     "iopub.execute_input": "2025-09-02T04:05:52.741251Z",
     "iopub.status.busy": "2025-09-02T04:05:52.740967Z",
     "iopub.status.idle": "2025-09-02T04:05:53.269231Z",
     "shell.execute_reply": "2025-09-02T04:05:53.268388Z"
    },
    "papermill": {
     "duration": 0.536268,
     "end_time": "2025-09-02T04:05:53.270466",
     "exception": false,
     "start_time": "2025-09-02T04:05:52.734198",
     "status": "completed"
    },
    "tags": []
   },
   "outputs": [
    {
     "data": {
      "text/html": [
       "<div>\n",
       "<style scoped>\n",
       "    .dataframe tbody tr th:only-of-type {\n",
       "        vertical-align: middle;\n",
       "    }\n",
       "\n",
       "    .dataframe tbody tr th {\n",
       "        vertical-align: top;\n",
       "    }\n",
       "\n",
       "    .dataframe thead th {\n",
       "        text-align: right;\n",
       "    }\n",
       "</style>\n",
       "<table border=\"1\" class=\"dataframe\">\n",
       "  <thead>\n",
       "    <tr style=\"text-align: right;\">\n",
       "      <th></th>\n",
       "      <th>ResponseId</th>\n",
       "      <th>MainBranch</th>\n",
       "      <th>Age</th>\n",
       "      <th>Employment</th>\n",
       "      <th>RemoteWork</th>\n",
       "      <th>EdLevel</th>\n",
       "      <th>YearsCode</th>\n",
       "      <th>YearsCode_MinMax</th>\n",
       "      <th>YearsCodePro</th>\n",
       "      <th>ExperienceLevel</th>\n",
       "      <th>YearsCodePro_Zscore</th>\n",
       "      <th>DevType</th>\n",
       "      <th>Country</th>\n",
       "      <th>CompTotal</th>\n",
       "      <th>LanguageHaveWorkedWith</th>\n",
       "      <th>LanguageWantToWorkWith</th>\n",
       "      <th>DatabaseHaveWorkedWith</th>\n",
       "      <th>DatabaseWantToWorkWith</th>\n",
       "      <th>PlatformHaveWorkedWith</th>\n",
       "      <th>PlatformWantToWorkWith</th>\n",
       "      <th>WebframeHaveWorkedWith</th>\n",
       "      <th>WebframeWantToWorkWith</th>\n",
       "      <th>ToolsTechHaveWorkedWith</th>\n",
       "      <th>ToolsTechWantToWorkWith</th>\n",
       "      <th>NEWCollabToolsHaveWorkedWith</th>\n",
       "      <th>NEWCollabToolsWantToWorkWith</th>\n",
       "      <th>WorkExp</th>\n",
       "      <th>ConvertedCompYearly</th>\n",
       "      <th>JobSat</th>\n",
       "    </tr>\n",
       "  </thead>\n",
       "  <tbody>\n",
       "    <tr>\n",
       "      <th>0</th>\n",
       "      <td>2</td>\n",
       "      <td>I am a developer by profession</td>\n",
       "      <td>35-44 years old</td>\n",
       "      <td>Employed, full-time</td>\n",
       "      <td>Remote</td>\n",
       "      <td>Bachelor's degree (B.A., B.S., B.Eng., etc.)</td>\n",
       "      <td>20</td>\n",
       "      <td>0.40</td>\n",
       "      <td>17</td>\n",
       "      <td>Architect</td>\n",
       "      <td>0.812509</td>\n",
       "      <td>Developer, full-stack</td>\n",
       "      <td>United Kingdom of Great Britain and Northern I...</td>\n",
       "      <td>NaN</td>\n",
       "      <td>Bash/Shell (all shells);Go;HTML/CSS;Java;JavaS...</td>\n",
       "      <td>Bash/Shell (all shells);Go;HTML/CSS;Java;JavaS...</td>\n",
       "      <td>Dynamodb;MongoDB;PostgreSQL</td>\n",
       "      <td>PostgreSQL</td>\n",
       "      <td>Amazon Web Services (AWS);Heroku;Netlify</td>\n",
       "      <td>Amazon Web Services (AWS);Heroku;Netlify</td>\n",
       "      <td>Express;Next.js;Node.js;React</td>\n",
       "      <td>Express;Htmx;Node.js;React;Remix</td>\n",
       "      <td>Docker;Homebrew;Kubernetes;npm;Vite;Webpack</td>\n",
       "      <td>Docker;Homebrew;Kubernetes;npm;Vite;Webpack</td>\n",
       "      <td>PyCharm;Visual Studio Code;WebStorm</td>\n",
       "      <td>PyCharm;Visual Studio Code;WebStorm</td>\n",
       "      <td>17.0</td>\n",
       "      <td>NaN</td>\n",
       "      <td>NaN</td>\n",
       "    </tr>\n",
       "    <tr>\n",
       "      <th>1</th>\n",
       "      <td>3</td>\n",
       "      <td>I am a developer by profession</td>\n",
       "      <td>45-54 years old</td>\n",
       "      <td>Employed, full-time</td>\n",
       "      <td>Remote</td>\n",
       "      <td>Master's degree (M.A., M.S., M.Eng., MBA, etc.)</td>\n",
       "      <td>37</td>\n",
       "      <td>0.74</td>\n",
       "      <td>27</td>\n",
       "      <td>Architect</td>\n",
       "      <td>2.010883</td>\n",
       "      <td>Developer Experience</td>\n",
       "      <td>United Kingdom of Great Britain and Northern I...</td>\n",
       "      <td>NaN</td>\n",
       "      <td>C#</td>\n",
       "      <td>C#</td>\n",
       "      <td>Firebase Realtime Database</td>\n",
       "      <td>Firebase Realtime Database</td>\n",
       "      <td>Google Cloud</td>\n",
       "      <td>Google Cloud</td>\n",
       "      <td>ASP.NET CORE</td>\n",
       "      <td>ASP.NET CORE</td>\n",
       "      <td>MSBuild</td>\n",
       "      <td>MSBuild</td>\n",
       "      <td>Visual Studio</td>\n",
       "      <td>Visual Studio</td>\n",
       "      <td>NaN</td>\n",
       "      <td>NaN</td>\n",
       "      <td>NaN</td>\n",
       "    </tr>\n",
       "    <tr>\n",
       "      <th>2</th>\n",
       "      <td>4</td>\n",
       "      <td>I am learning to code</td>\n",
       "      <td>18-24 years old</td>\n",
       "      <td>Student, full-time</td>\n",
       "      <td>Hybrid (some remote, some in-person)</td>\n",
       "      <td>Some college/university study without earning ...</td>\n",
       "      <td>4</td>\n",
       "      <td>0.08</td>\n",
       "      <td>10</td>\n",
       "      <td>Lead</td>\n",
       "      <td>-0.026352</td>\n",
       "      <td>Developer, full-stack</td>\n",
       "      <td>Canada</td>\n",
       "      <td>NaN</td>\n",
       "      <td>C;C++;HTML/CSS;Java;JavaScript;PHP;PowerShell;...</td>\n",
       "      <td>HTML/CSS;Java;JavaScript;PowerShell;Python;SQL...</td>\n",
       "      <td>MongoDB;MySQL;PostgreSQL;SQLite</td>\n",
       "      <td>MongoDB;MySQL;PostgreSQL</td>\n",
       "      <td>Amazon Web Services (AWS);Fly.io;Heroku</td>\n",
       "      <td>Amazon Web Services (AWS);Vercel</td>\n",
       "      <td>jQuery;Next.js;Node.js;React;WordPress</td>\n",
       "      <td>jQuery;Next.js;Node.js;React</td>\n",
       "      <td>Docker;npm;Pip</td>\n",
       "      <td>Docker;Kubernetes;npm</td>\n",
       "      <td>None</td>\n",
       "      <td>None</td>\n",
       "      <td>NaN</td>\n",
       "      <td>NaN</td>\n",
       "      <td>NaN</td>\n",
       "    </tr>\n",
       "    <tr>\n",
       "      <th>3</th>\n",
       "      <td>5</td>\n",
       "      <td>I am a developer by profession</td>\n",
       "      <td>18-24 years old</td>\n",
       "      <td>Student, full-time</td>\n",
       "      <td>Hybrid (some remote, some in-person)</td>\n",
       "      <td>Secondary school (e.g. American high school, G...</td>\n",
       "      <td>9</td>\n",
       "      <td>0.18</td>\n",
       "      <td>10</td>\n",
       "      <td>Lead</td>\n",
       "      <td>-0.026352</td>\n",
       "      <td>Developer, full-stack</td>\n",
       "      <td>Norway</td>\n",
       "      <td>NaN</td>\n",
       "      <td>C++;HTML/CSS;JavaScript;Lua;Python;Rust</td>\n",
       "      <td>C++;HTML/CSS;JavaScript;Lua;Python</td>\n",
       "      <td>PostgreSQL;SQLite</td>\n",
       "      <td>PostgreSQL;SQLite</td>\n",
       "      <td>None</td>\n",
       "      <td>None</td>\n",
       "      <td>None</td>\n",
       "      <td>None</td>\n",
       "      <td>APT;Make;npm</td>\n",
       "      <td>APT;Make</td>\n",
       "      <td>Vim</td>\n",
       "      <td>Vim</td>\n",
       "      <td>NaN</td>\n",
       "      <td>NaN</td>\n",
       "      <td>NaN</td>\n",
       "    </tr>\n",
       "    <tr>\n",
       "      <th>4</th>\n",
       "      <td>6</td>\n",
       "      <td>I code primarily as a hobby</td>\n",
       "      <td>Under 18 years old</td>\n",
       "      <td>Student, full-time</td>\n",
       "      <td>Hybrid (some remote, some in-person)</td>\n",
       "      <td>Primary/elementary school</td>\n",
       "      <td>10</td>\n",
       "      <td>0.20</td>\n",
       "      <td>10</td>\n",
       "      <td>Lead</td>\n",
       "      <td>-0.026352</td>\n",
       "      <td>Student</td>\n",
       "      <td>United States of America</td>\n",
       "      <td>NaN</td>\n",
       "      <td>Bash/Shell (all shells);HTML/CSS;Java;JavaScri...</td>\n",
       "      <td>Bash/Shell (all shells);HTML/CSS;Java;JavaScri...</td>\n",
       "      <td>Cloud Firestore</td>\n",
       "      <td>Cloud Firestore</td>\n",
       "      <td>Cloudflare</td>\n",
       "      <td>Cloudflare</td>\n",
       "      <td>Node.js</td>\n",
       "      <td>Node.js</td>\n",
       "      <td>Docker;Homebrew;npm;Pip;pnpm</td>\n",
       "      <td>Homebrew;npm;Pip;pnpm</td>\n",
       "      <td>Nano;Vim;Visual Studio Code;Xcode</td>\n",
       "      <td>Nano;Vim;Visual Studio Code;Xcode</td>\n",
       "      <td>NaN</td>\n",
       "      <td>NaN</td>\n",
       "      <td>NaN</td>\n",
       "    </tr>\n",
       "  </tbody>\n",
       "</table>\n",
       "</div>"
      ],
      "text/plain": [
       "   ResponseId                      MainBranch                 Age  \\\n",
       "0           2  I am a developer by profession     35-44 years old   \n",
       "1           3  I am a developer by profession     45-54 years old   \n",
       "2           4           I am learning to code     18-24 years old   \n",
       "3           5  I am a developer by profession     18-24 years old   \n",
       "4           6     I code primarily as a hobby  Under 18 years old   \n",
       "\n",
       "            Employment                            RemoteWork  \\\n",
       "0  Employed, full-time                                Remote   \n",
       "1  Employed, full-time                                Remote   \n",
       "2   Student, full-time  Hybrid (some remote, some in-person)   \n",
       "3   Student, full-time  Hybrid (some remote, some in-person)   \n",
       "4   Student, full-time  Hybrid (some remote, some in-person)   \n",
       "\n",
       "                                             EdLevel  YearsCode  \\\n",
       "0       Bachelor's degree (B.A., B.S., B.Eng., etc.)         20   \n",
       "1    Master's degree (M.A., M.S., M.Eng., MBA, etc.)         37   \n",
       "2  Some college/university study without earning ...          4   \n",
       "3  Secondary school (e.g. American high school, G...          9   \n",
       "4                          Primary/elementary school         10   \n",
       "\n",
       "   YearsCode_MinMax  YearsCodePro ExperienceLevel  YearsCodePro_Zscore  \\\n",
       "0              0.40            17       Architect             0.812509   \n",
       "1              0.74            27       Architect             2.010883   \n",
       "2              0.08            10            Lead            -0.026352   \n",
       "3              0.18            10            Lead            -0.026352   \n",
       "4              0.20            10            Lead            -0.026352   \n",
       "\n",
       "                 DevType                                            Country  \\\n",
       "0  Developer, full-stack  United Kingdom of Great Britain and Northern I...   \n",
       "1   Developer Experience  United Kingdom of Great Britain and Northern I...   \n",
       "2  Developer, full-stack                                             Canada   \n",
       "3  Developer, full-stack                                             Norway   \n",
       "4                Student                           United States of America   \n",
       "\n",
       "   CompTotal                             LanguageHaveWorkedWith  \\\n",
       "0        NaN  Bash/Shell (all shells);Go;HTML/CSS;Java;JavaS...   \n",
       "1        NaN                                                 C#   \n",
       "2        NaN  C;C++;HTML/CSS;Java;JavaScript;PHP;PowerShell;...   \n",
       "3        NaN            C++;HTML/CSS;JavaScript;Lua;Python;Rust   \n",
       "4        NaN  Bash/Shell (all shells);HTML/CSS;Java;JavaScri...   \n",
       "\n",
       "                              LanguageWantToWorkWith  \\\n",
       "0  Bash/Shell (all shells);Go;HTML/CSS;Java;JavaS...   \n",
       "1                                                 C#   \n",
       "2  HTML/CSS;Java;JavaScript;PowerShell;Python;SQL...   \n",
       "3                 C++;HTML/CSS;JavaScript;Lua;Python   \n",
       "4  Bash/Shell (all shells);HTML/CSS;Java;JavaScri...   \n",
       "\n",
       "            DatabaseHaveWorkedWith      DatabaseWantToWorkWith  \\\n",
       "0      Dynamodb;MongoDB;PostgreSQL                  PostgreSQL   \n",
       "1       Firebase Realtime Database  Firebase Realtime Database   \n",
       "2  MongoDB;MySQL;PostgreSQL;SQLite    MongoDB;MySQL;PostgreSQL   \n",
       "3                PostgreSQL;SQLite           PostgreSQL;SQLite   \n",
       "4                  Cloud Firestore             Cloud Firestore   \n",
       "\n",
       "                     PlatformHaveWorkedWith  \\\n",
       "0  Amazon Web Services (AWS);Heroku;Netlify   \n",
       "1                              Google Cloud   \n",
       "2   Amazon Web Services (AWS);Fly.io;Heroku   \n",
       "3                                      None   \n",
       "4                                Cloudflare   \n",
       "\n",
       "                     PlatformWantToWorkWith  \\\n",
       "0  Amazon Web Services (AWS);Heroku;Netlify   \n",
       "1                              Google Cloud   \n",
       "2          Amazon Web Services (AWS);Vercel   \n",
       "3                                      None   \n",
       "4                                Cloudflare   \n",
       "\n",
       "                   WebframeHaveWorkedWith            WebframeWantToWorkWith  \\\n",
       "0           Express;Next.js;Node.js;React  Express;Htmx;Node.js;React;Remix   \n",
       "1                            ASP.NET CORE                      ASP.NET CORE   \n",
       "2  jQuery;Next.js;Node.js;React;WordPress      jQuery;Next.js;Node.js;React   \n",
       "3                                    None                              None   \n",
       "4                                 Node.js                           Node.js   \n",
       "\n",
       "                       ToolsTechHaveWorkedWith  \\\n",
       "0  Docker;Homebrew;Kubernetes;npm;Vite;Webpack   \n",
       "1                                      MSBuild   \n",
       "2                               Docker;npm;Pip   \n",
       "3                                 APT;Make;npm   \n",
       "4                 Docker;Homebrew;npm;Pip;pnpm   \n",
       "\n",
       "                       ToolsTechWantToWorkWith  \\\n",
       "0  Docker;Homebrew;Kubernetes;npm;Vite;Webpack   \n",
       "1                                      MSBuild   \n",
       "2                        Docker;Kubernetes;npm   \n",
       "3                                     APT;Make   \n",
       "4                        Homebrew;npm;Pip;pnpm   \n",
       "\n",
       "          NEWCollabToolsHaveWorkedWith         NEWCollabToolsWantToWorkWith  \\\n",
       "0  PyCharm;Visual Studio Code;WebStorm  PyCharm;Visual Studio Code;WebStorm   \n",
       "1                        Visual Studio                        Visual Studio   \n",
       "2                                 None                                 None   \n",
       "3                                  Vim                                  Vim   \n",
       "4    Nano;Vim;Visual Studio Code;Xcode    Nano;Vim;Visual Studio Code;Xcode   \n",
       "\n",
       "   WorkExp  ConvertedCompYearly  JobSat  \n",
       "0     17.0                  NaN     NaN  \n",
       "1      NaN                  NaN     NaN  \n",
       "2      NaN                  NaN     NaN  \n",
       "3      NaN                  NaN     NaN  \n",
       "4      NaN                  NaN     NaN  "
      ]
     },
     "execution_count": 6,
     "metadata": {},
     "output_type": "execute_result"
    }
   ],
   "source": [
    "# Run a query to check\n",
    "df = pd.read_sql(\"SELECT * FROM main\", conn)\n",
    "\n",
    "df.head()"
   ]
  },
  {
   "cell_type": "markdown",
   "id": "14d3b8f1",
   "metadata": {
    "papermill": {
     "duration": 0.005416,
     "end_time": "2025-09-02T04:05:53.282215",
     "exception": false,
     "start_time": "2025-09-02T04:05:53.276799",
     "status": "completed"
    },
    "tags": []
   },
   "source": [
    "## Handling Outliers in Total Compensation\n",
    "\n",
    "In order to find outliers, I need to determine the lower and upper bounds using the 1.5 Inter quartile Range (IQR) rule. First, I am going find the first and third quartiles to calculate the IQR. It will be nice to have a dataset without the outliers in `CompTotal`. Therefore, I am going the save the results in a new table in the database. This will also make it convient to access the table in different files."
   ]
  },
  {
   "cell_type": "markdown",
   "id": "a3e1fc94",
   "metadata": {
    "papermill": {
     "duration": 0.005267,
     "end_time": "2025-09-02T04:05:53.293120",
     "exception": false,
     "start_time": "2025-09-02T04:05:53.287853",
     "status": "completed"
    },
    "tags": []
   },
   "source": [
    "### Finding Outliers"
   ]
  },
  {
   "cell_type": "code",
   "execution_count": 7,
   "id": "eee3015a",
   "metadata": {
    "execution": {
     "iopub.execute_input": "2025-09-02T04:05:53.307987Z",
     "iopub.status.busy": "2025-09-02T04:05:53.307649Z",
     "iopub.status.idle": "2025-09-02T04:05:53.326722Z",
     "shell.execute_reply": "2025-09-02T04:05:53.326024Z"
    },
    "papermill": {
     "duration": 0.0279,
     "end_time": "2025-09-02T04:05:53.327880",
     "exception": false,
     "start_time": "2025-09-02T04:05:53.299980",
     "status": "completed"
    },
    "tags": []
   },
   "outputs": [
    {
     "data": {
      "text/plain": [
       "count     3.342800e+04\n",
       "mean     2.991504e+145\n",
       "std      5.469464e+147\n",
       "min       0.000000e+00\n",
       "25%       6.000000e+04\n",
       "50%       1.100000e+05\n",
       "75%       2.500000e+05\n",
       "max      1.000000e+150\n",
       "Name: CompTotal, dtype: float64"
      ]
     },
     "execution_count": 7,
     "metadata": {},
     "output_type": "execute_result"
    }
   ],
   "source": [
    "# Finding the quartiles \n",
    "df['CompTotal'].describe()"
   ]
  },
  {
   "cell_type": "code",
   "execution_count": 8,
   "id": "c0e9d169",
   "metadata": {
    "execution": {
     "iopub.execute_input": "2025-09-02T04:05:53.340389Z",
     "iopub.status.busy": "2025-09-02T04:05:53.340076Z",
     "iopub.status.idle": "2025-09-02T04:05:53.344412Z",
     "shell.execute_reply": "2025-09-02T04:05:53.343683Z"
    },
    "papermill": {
     "duration": 0.012088,
     "end_time": "2025-09-02T04:05:53.345893",
     "exception": false,
     "start_time": "2025-09-02T04:05:53.333805",
     "status": "completed"
    },
    "tags": []
   },
   "outputs": [],
   "source": [
    "# Calculate the IQR\n",
    "Q1 = 6.000000e+04\n",
    "Q3 = 2.500000e+05\n",
    "IQR = Q3 - Q1\n",
    "\n",
    "# Finding the bounds\n",
    "lower_bounds = Q1 - (1.5 * IQR)\n",
    "upper_bounds = Q3 + (1.5 * IQR)"
   ]
  },
  {
   "cell_type": "markdown",
   "id": "aeeaa509",
   "metadata": {
    "papermill": {
     "duration": 0.00552,
     "end_time": "2025-09-02T04:05:53.357785",
     "exception": false,
     "start_time": "2025-09-02T04:05:53.352265",
     "status": "completed"
    },
    "tags": []
   },
   "source": [
    "### Removing Outliers\n",
    "\n",
    "I will filter out the outliers and save the result in a new dataframe. Then, I will write the new dataframe to a new table in the `survey-data.db` database. This will keep the original table in tact and make it easy to retrieve it."
   ]
  },
  {
   "cell_type": "code",
   "execution_count": 9,
   "id": "b7899674",
   "metadata": {
    "execution": {
     "iopub.execute_input": "2025-09-02T04:05:53.370492Z",
     "iopub.status.busy": "2025-09-02T04:05:53.370207Z",
     "iopub.status.idle": "2025-09-02T04:05:53.802163Z",
     "shell.execute_reply": "2025-09-02T04:05:53.801353Z"
    },
    "papermill": {
     "duration": 0.439817,
     "end_time": "2025-09-02T04:05:53.803280",
     "exception": false,
     "start_time": "2025-09-02T04:05:53.363463",
     "status": "completed"
    },
    "tags": []
   },
   "outputs": [
    {
     "data": {
      "text/plain": [
       "27607"
      ]
     },
     "execution_count": 9,
     "metadata": {},
     "output_type": "execute_result"
    }
   ],
   "source": [
    "# Create a new df with no outliers in CompTotal\n",
    "no_out_CompTotal = df[(df['CompTotal'] >= lower_bounds) & (df['CompTotal'] <= upper_bounds)]\n",
    "\n",
    "# Create a new table called noOutCompT in the database\n",
    "no_out_CompTotal.to_sql('noOutCompT', conn, if_exists='replace', index=False)"
   ]
  },
  {
   "cell_type": "markdown",
   "id": "dadb68a3",
   "metadata": {
    "papermill": {
     "duration": 0.005214,
     "end_time": "2025-09-02T04:05:53.814294",
     "exception": false,
     "start_time": "2025-09-02T04:05:53.809080",
     "status": "completed"
    },
    "tags": []
   },
   "source": [
    "## Handling Outliers in Yearly Compensation\n",
    "\n",
    "I will perform the same steps to handle outliers in the `ConvertedCompYearly` column. A new table in the database will also be created to separate the data."
   ]
  },
  {
   "cell_type": "markdown",
   "id": "92750f0b",
   "metadata": {
    "papermill": {
     "duration": 0.005844,
     "end_time": "2025-09-02T04:05:53.825410",
     "exception": false,
     "start_time": "2025-09-02T04:05:53.819566",
     "status": "completed"
    },
    "tags": []
   },
   "source": [
    "### Finding Outliers"
   ]
  },
  {
   "cell_type": "code",
   "execution_count": 10,
   "id": "99c6d297",
   "metadata": {
    "execution": {
     "iopub.execute_input": "2025-09-02T04:05:53.838437Z",
     "iopub.status.busy": "2025-09-02T04:05:53.838146Z",
     "iopub.status.idle": "2025-09-02T04:05:53.848246Z",
     "shell.execute_reply": "2025-09-02T04:05:53.847362Z"
    },
    "papermill": {
     "duration": 0.018269,
     "end_time": "2025-09-02T04:05:53.849908",
     "exception": false,
     "start_time": "2025-09-02T04:05:53.831639",
     "status": "completed"
    },
    "tags": []
   },
   "outputs": [
    {
     "data": {
      "text/plain": [
       "count    2.335200e+04\n",
       "mean     8.516649e+04\n",
       "std      1.427830e+05\n",
       "min      1.000000e+00\n",
       "25%      3.286600e+04\n",
       "50%      6.500000e+04\n",
       "75%      1.080000e+05\n",
       "max      1.381802e+07\n",
       "Name: ConvertedCompYearly, dtype: float64"
      ]
     },
     "execution_count": 10,
     "metadata": {},
     "output_type": "execute_result"
    }
   ],
   "source": [
    "# Finding the quartiles \n",
    "df['ConvertedCompYearly'].describe()"
   ]
  },
  {
   "cell_type": "code",
   "execution_count": 11,
   "id": "d6e0552d",
   "metadata": {
    "execution": {
     "iopub.execute_input": "2025-09-02T04:05:53.862996Z",
     "iopub.status.busy": "2025-09-02T04:05:53.862720Z",
     "iopub.status.idle": "2025-09-02T04:05:53.867229Z",
     "shell.execute_reply": "2025-09-02T04:05:53.866449Z"
    },
    "papermill": {
     "duration": 0.01246,
     "end_time": "2025-09-02T04:05:53.868583",
     "exception": false,
     "start_time": "2025-09-02T04:05:53.856123",
     "status": "completed"
    },
    "tags": []
   },
   "outputs": [],
   "source": [
    "# Calculate the IQR\n",
    "Q1 = 3.286600e+04\n",
    "Q3 = 1.080000e+05\n",
    "IQR = Q3 - Q1\n",
    "\n",
    "# Finding the bounds\n",
    "lower_bounds = Q1 - (1.5 * IQR)\n",
    "upper_bounds = Q3 + (1.5 * IQR)"
   ]
  },
  {
   "cell_type": "markdown",
   "id": "40b6dcb6",
   "metadata": {
    "papermill": {
     "duration": 0.067879,
     "end_time": "2025-09-02T04:05:53.942489",
     "exception": false,
     "start_time": "2025-09-02T04:05:53.874610",
     "status": "completed"
    },
    "tags": []
   },
   "source": [
    "### Removing Outliers"
   ]
  },
  {
   "cell_type": "code",
   "execution_count": 12,
   "id": "4ac8fa83",
   "metadata": {
    "execution": {
     "iopub.execute_input": "2025-09-02T04:05:53.954987Z",
     "iopub.status.busy": "2025-09-02T04:05:53.954709Z",
     "iopub.status.idle": "2025-09-02T04:05:54.301758Z",
     "shell.execute_reply": "2025-09-02T04:05:54.300763Z"
    },
    "papermill": {
     "duration": 0.354924,
     "end_time": "2025-09-02T04:05:54.303157",
     "exception": false,
     "start_time": "2025-09-02T04:05:53.948233",
     "status": "completed"
    },
    "tags": []
   },
   "outputs": [
    {
     "data": {
      "text/plain": [
       "22377"
      ]
     },
     "execution_count": 12,
     "metadata": {},
     "output_type": "execute_result"
    }
   ],
   "source": [
    "# Create a new df with no outliers in CompTotal\n",
    "no_out_CompYear = df[(df['ConvertedCompYearly'] >= lower_bounds) & (df['ConvertedCompYearly'] <= upper_bounds)]\n",
    "\n",
    "# Create a new table called noOutCompY in the database\n",
    "no_out_CompYear.to_sql('noOutCompY', conn, if_exists='replace', index=False)"
   ]
  },
  {
   "cell_type": "markdown",
   "id": "bdb8b6b8",
   "metadata": {
    "papermill": {
     "duration": 0.005403,
     "end_time": "2025-09-02T04:05:54.314894",
     "exception": false,
     "start_time": "2025-09-02T04:05:54.309491",
     "status": "completed"
    },
    "tags": []
   },
   "source": [
    "## Verify the Tables in SQLite"
   ]
  },
  {
   "cell_type": "code",
   "execution_count": 13,
   "id": "00120777",
   "metadata": {
    "execution": {
     "iopub.execute_input": "2025-09-02T04:05:54.327247Z",
     "iopub.status.busy": "2025-09-02T04:05:54.326963Z",
     "iopub.status.idle": "2025-09-02T04:05:54.336052Z",
     "shell.execute_reply": "2025-09-02T04:05:54.335380Z"
    },
    "papermill": {
     "duration": 0.016736,
     "end_time": "2025-09-02T04:05:54.337164",
     "exception": false,
     "start_time": "2025-09-02T04:05:54.320428",
     "status": "completed"
    },
    "tags": []
   },
   "outputs": [
    {
     "data": {
      "text/html": [
       "<div>\n",
       "<style scoped>\n",
       "    .dataframe tbody tr th:only-of-type {\n",
       "        vertical-align: middle;\n",
       "    }\n",
       "\n",
       "    .dataframe tbody tr th {\n",
       "        vertical-align: top;\n",
       "    }\n",
       "\n",
       "    .dataframe thead th {\n",
       "        text-align: right;\n",
       "    }\n",
       "</style>\n",
       "<table border=\"1\" class=\"dataframe\">\n",
       "  <thead>\n",
       "    <tr style=\"text-align: right;\">\n",
       "      <th></th>\n",
       "      <th>Table_Name</th>\n",
       "    </tr>\n",
       "  </thead>\n",
       "  <tbody>\n",
       "    <tr>\n",
       "      <th>0</th>\n",
       "      <td>main</td>\n",
       "    </tr>\n",
       "    <tr>\n",
       "      <th>1</th>\n",
       "      <td>noOutCompT</td>\n",
       "    </tr>\n",
       "    <tr>\n",
       "      <th>2</th>\n",
       "      <td>noOutCompY</td>\n",
       "    </tr>\n",
       "  </tbody>\n",
       "</table>\n",
       "</div>"
      ],
      "text/plain": [
       "   Table_Name\n",
       "0        main\n",
       "1  noOutCompT\n",
       "2  noOutCompY"
      ]
     },
     "execution_count": 13,
     "metadata": {},
     "output_type": "execute_result"
    }
   ],
   "source": [
    "# SQL query to select the table names\n",
    "QUERY = \"\"\"\n",
    "SELECT name as Table_Name FROM sqlite_master \n",
    "WHERE type = 'table'\n",
    "\"\"\"\n",
    "# Read the query to a df\n",
    "pd.read_sql_query(QUERY, conn)"
   ]
  },
  {
   "cell_type": "markdown",
   "id": "91ad9dc9",
   "metadata": {
    "papermill": {
     "duration": 0.005526,
     "end_time": "2025-09-02T04:05:54.348766",
     "exception": false,
     "start_time": "2025-09-02T04:05:54.343240",
     "status": "completed"
    },
    "tags": []
   },
   "source": [
    "We can see that all three tables are present in the database."
   ]
  },
  {
   "cell_type": "markdown",
   "id": "a4e139a3",
   "metadata": {
    "papermill": {
     "duration": 0.00539,
     "end_time": "2025-09-02T04:05:54.359840",
     "exception": false,
     "start_time": "2025-09-02T04:05:54.354450",
     "status": "completed"
    },
    "tags": []
   },
   "source": [
    "## Distribution of Total Compensation\n",
    "\n",
    "Now that we removed outliers, let's visualize the distribution of `CompTotal`."
   ]
  },
  {
   "cell_type": "code",
   "execution_count": 14,
   "id": "86f0161f",
   "metadata": {
    "execution": {
     "iopub.execute_input": "2025-09-02T04:05:54.372162Z",
     "iopub.status.busy": "2025-09-02T04:05:54.371903Z",
     "iopub.status.idle": "2025-09-02T04:05:54.606416Z",
     "shell.execute_reply": "2025-09-02T04:05:54.605605Z"
    },
    "papermill": {
     "duration": 0.242283,
     "end_time": "2025-09-02T04:05:54.607621",
     "exception": false,
     "start_time": "2025-09-02T04:05:54.365338",
     "status": "completed"
    },
    "tags": []
   },
   "outputs": [
    {
     "data": {
      "image/png": "[encoded data removed]",
      "text/plain": [
       "<Figure size 1000x600 with 1 Axes>"
      ]
     },
     "metadata": {},
     "output_type": "display_data"
    }
   ],
   "source": [
    "# Plot the histogram\n",
    "fig, ax = plt.subplots(figsize=(10,6))\n",
    "\n",
    "ax.hist(no_out_CompTotal['CompTotal'], edgecolor='black')\n",
    "ax.set_title(\"Distribution of Total Compensation\")\n",
    "ax.set_xlabel(\"Total Compensation\")\n",
    "ax.set_ylabel(\"Number of Respondents\")\n",
    "plt.show()"
   ]
  },
  {
   "cell_type": "markdown",
   "id": "08aac7bf",
   "metadata": {
    "papermill": {
     "duration": 0.005896,
     "end_time": "2025-09-02T04:05:54.620589",
     "exception": false,
     "start_time": "2025-09-02T04:05:54.614693",
     "status": "completed"
    },
    "tags": []
   },
   "source": [
    "Based on the data with no outliers, the majority of participants has compensation in the range from 0-100000. As the compensation increases, the frequency decreases. "
   ]
  },
  {
   "cell_type": "markdown",
   "id": "0cd88fe1",
   "metadata": {
    "papermill": {
     "duration": 0.005744,
     "end_time": "2025-09-02T04:05:54.632423",
     "exception": false,
     "start_time": "2025-09-02T04:05:54.626679",
     "status": "completed"
    },
    "tags": []
   },
   "source": [
    "## Distribution of Yearly Compensation\n",
    "\n",
    "Let's visualize `ConvertedCompYearly` with no outliers."
   ]
  },
  {
   "cell_type": "code",
   "execution_count": 15,
   "id": "f02f6845",
   "metadata": {
    "execution": {
     "iopub.execute_input": "2025-09-02T04:05:54.645756Z",
     "iopub.status.busy": "2025-09-02T04:05:54.645445Z",
     "iopub.status.idle": "2025-09-02T04:05:54.913255Z",
     "shell.execute_reply": "2025-09-02T04:05:54.912584Z"
    },
    "papermill": {
     "duration": 0.275996,
     "end_time": "2025-09-02T04:05:54.914392",
     "exception": false,
     "start_time": "2025-09-02T04:05:54.638396",
     "status": "completed"
    },
    "tags": []
   },
   "outputs": [
    {
     "data": {
      "image/png": "[encoded data removed]",
      "text/plain": [
       "<Figure size 1000x600 with 1 Axes>"
      ]
     },
     "metadata": {},
     "output_type": "display_data"
    }
   ],
   "source": [
    "# Plot the histogram with a KDE\n",
    "fig, ax = plt.subplots(figsize=(10,6))\n",
    "\n",
    "sns.histplot(no_out_CompYear, x='ConvertedCompYearly', kde=True, bins=20, ax=ax)\n",
    "ax.set_title(\"Distribution of Yearly Compensation\")\n",
    "ax.set_xlabel(\"Yearly Compensation\" )\n",
    "ax.set_ylabel(\"Frequency\")\n",
    "plt.show()\n"
   ]
  },
  {
   "cell_type": "markdown",
   "id": "b345560b",
   "metadata": {
    "papermill": {
     "duration": 0.006175,
     "end_time": "2025-09-02T04:05:54.927676",
     "exception": false,
     "start_time": "2025-09-02T04:05:54.921501",
     "status": "completed"
    },
    "tags": []
   },
   "source": [
    "This graph also has a similar trend like the previous histogram. There are a higher frequency when yearly compensation is lower and lower frequency when yearly compensation is higher. Interestingly, the first bin on the left has the highest frequency. This probably reflects the students without jobs and part timers. "
   ]
  },
  {
   "cell_type": "markdown",
   "id": "c5739368",
   "metadata": {
    "papermill": {
     "duration": 0.00601,
     "end_time": "2025-09-02T04:05:54.939935",
     "exception": false,
     "start_time": "2025-09-02T04:05:54.933925",
     "status": "completed"
    },
    "tags": []
   },
   "source": [
    "## Median Compensation by Age Groups\n",
    "\n",
    "Let's explore to see how the median yearly compensation (`ConvertedCompYearly`)compares across each age group (`Age`)."
   ]
  },
  {
   "cell_type": "code",
   "execution_count": 16,
   "id": "57b08e15",
   "metadata": {
    "execution": {
     "iopub.execute_input": "2025-09-02T04:05:54.954551Z",
     "iopub.status.busy": "2025-09-02T04:05:54.953587Z",
     "iopub.status.idle": "2025-09-02T04:05:54.976793Z",
     "shell.execute_reply": "2025-09-02T04:05:54.975961Z"
    },
    "papermill": {
     "duration": 0.031634,
     "end_time": "2025-09-02T04:05:54.977898",
     "exception": false,
     "start_time": "2025-09-02T04:05:54.946264",
     "status": "completed"
    },
    "tags": []
   },
   "outputs": [
    {
     "data": {
      "text/html": [
       "<div>\n",
       "<style scoped>\n",
       "    .dataframe tbody tr th:only-of-type {\n",
       "        vertical-align: middle;\n",
       "    }\n",
       "\n",
       "    .dataframe tbody tr th {\n",
       "        vertical-align: top;\n",
       "    }\n",
       "\n",
       "    .dataframe thead th {\n",
       "        text-align: right;\n",
       "    }\n",
       "</style>\n",
       "<table border=\"1\" class=\"dataframe\">\n",
       "  <thead>\n",
       "    <tr style=\"text-align: right;\">\n",
       "      <th></th>\n",
       "      <th>Age</th>\n",
       "      <th>ConvertedCompYearly</th>\n",
       "    </tr>\n",
       "  </thead>\n",
       "  <tbody>\n",
       "    <tr>\n",
       "      <th>7</th>\n",
       "      <td>Under 18 years old</td>\n",
       "      <td>7253.0</td>\n",
       "    </tr>\n",
       "    <tr>\n",
       "      <th>0</th>\n",
       "      <td>18-24 years old</td>\n",
       "      <td>24731.0</td>\n",
       "    </tr>\n",
       "    <tr>\n",
       "      <th>1</th>\n",
       "      <td>25-34 years old</td>\n",
       "      <td>58000.0</td>\n",
       "    </tr>\n",
       "    <tr>\n",
       "      <th>2</th>\n",
       "      <td>35-44 years old</td>\n",
       "      <td>80000.0</td>\n",
       "    </tr>\n",
       "    <tr>\n",
       "      <th>3</th>\n",
       "      <td>45-54 years old</td>\n",
       "      <td>91295.0</td>\n",
       "    </tr>\n",
       "    <tr>\n",
       "      <th>4</th>\n",
       "      <td>55-64 years old</td>\n",
       "      <td>105000.0</td>\n",
       "    </tr>\n",
       "    <tr>\n",
       "      <th>5</th>\n",
       "      <td>65 years or older</td>\n",
       "      <td>100000.0</td>\n",
       "    </tr>\n",
       "    <tr>\n",
       "      <th>6</th>\n",
       "      <td>Prefer not to say</td>\n",
       "      <td>133023.5</td>\n",
       "    </tr>\n",
       "  </tbody>\n",
       "</table>\n",
       "</div>"
      ],
      "text/plain": [
       "                  Age  ConvertedCompYearly\n",
       "7  Under 18 years old               7253.0\n",
       "0     18-24 years old              24731.0\n",
       "1     25-34 years old              58000.0\n",
       "2     35-44 years old              80000.0\n",
       "3     45-54 years old              91295.0\n",
       "4     55-64 years old             105000.0\n",
       "5   65 years or older             100000.0\n",
       "6   Prefer not to say             133023.5"
      ]
     },
     "execution_count": 16,
     "metadata": {},
     "output_type": "execute_result"
    }
   ],
   "source": [
    "# Store the group in a separate df\n",
    "age_compY_group = no_out_CompYear[['Age', 'ConvertedCompYearly']].groupby('Age')['ConvertedCompYearly'].median().reset_index()\n",
    "\n",
    "# Set the order of the age ranges\n",
    "order = ['Under 18 years old', '18-24 years old', '25-34 years old', '35-44 years old', '45-54 years old', '55-64 years old', '65 years or older', 'Prefer not to say']\n",
    "age_compY_group['Age'] = pd.Categorical(age_compY_group['Age'], categories=order, ordered=True)\n",
    "age_compY_group = age_compY_group.sort_values('Age')\n",
    "\n",
    "age_compY_group"
   ]
  },
  {
   "cell_type": "code",
   "execution_count": 17,
   "id": "bf91520d",
   "metadata": {
    "execution": {
     "iopub.execute_input": "2025-09-02T04:05:54.992556Z",
     "iopub.status.busy": "2025-09-02T04:05:54.992205Z",
     "iopub.status.idle": "2025-09-02T04:05:55.261922Z",
     "shell.execute_reply": "2025-09-02T04:05:55.260821Z"
    },
    "papermill": {
     "duration": 0.278246,
     "end_time": "2025-09-02T04:05:55.263117",
     "exception": false,
     "start_time": "2025-09-02T04:05:54.984871",
     "status": "completed"
    },
    "tags": []
   },
   "outputs": [
    {
     "data": {
      "image/png": "[encoded data removed]",
      "text/plain": [
       "<Figure size 1000x600 with 1 Axes>"
      ]
     },
     "metadata": {},
     "output_type": "display_data"
    }
   ],
   "source": [
    "# Define labels for each tick\n",
    "labels = ['Under 18', '18-24', '25-34', '35-44', '45-54', '55-64', '65+', 'Unspecified']\n",
    "\n",
    "# Plot the bar plot\n",
    "fig, ax = plt.subplots(figsize=(10,6))\n",
    "sns.barplot(age_compY_group, x='Age', y='ConvertedCompYearly', hue='Age', ax=ax, dodge = False)\n",
    "ax.set_title(\"Median Pay by Age Range\")\n",
    "ax.set_ylabel(\"Median Yearly Compensation\")\n",
    "#ax.set_xticks(order)\n",
    "ax.set_xticklabels(labels)\n",
    "ax.get_legend().remove()\n",
    "plt.show()"
   ]
  },
  {
   "cell_type": "markdown",
   "id": "edb639fd",
   "metadata": {
    "papermill": {
     "duration": 0.006537,
     "end_time": "2025-09-02T04:05:55.277273",
     "exception": false,
     "start_time": "2025-09-02T04:05:55.270736",
     "status": "completed"
    },
    "tags": []
   },
   "source": [
    "This bar plot shows us that the median yearly compensation generally increases as age increases. The age group 65+ has a slight decrease than group 55-64 but is still higher than 45-54. Interestingly, the unspecified group has the highest median yearly compensation. This could have shifted some groups if every participant specified their age range. "
   ]
  },
  {
   "cell_type": "markdown",
   "id": "13415767",
   "metadata": {
    "papermill": {
     "duration": 0.006648,
     "end_time": "2025-09-02T04:05:55.290588",
     "exception": false,
     "start_time": "2025-09-02T04:05:55.283940",
     "status": "completed"
    },
    "tags": []
   },
   "source": [
    "## Using Box Plots\n",
    "\n",
    "Box plots are a good visualization tool for spotting outliers. Elements in a box plot include the lower bounds, 1st quartile, median, 3rd quartile, upper bounds, and outliers. The outliers are usually dots placed below or above the bounds. "
   ]
  },
  {
   "cell_type": "markdown",
   "id": "dc3031f8",
   "metadata": {
    "papermill": {
     "duration": 0.006977,
     "end_time": "2025-09-02T04:05:55.304269",
     "exception": false,
     "start_time": "2025-09-02T04:05:55.297292",
     "status": "completed"
    },
    "tags": []
   },
   "source": [
    "### Yearly Compensation\n",
    "\n",
    "Let's use the no outlier data and see how it looks like."
   ]
  },
  {
   "cell_type": "code",
   "execution_count": 18,
   "id": "966a7249",
   "metadata": {
    "execution": {
     "iopub.execute_input": "2025-09-02T04:05:55.319912Z",
     "iopub.status.busy": "2025-09-02T04:05:55.319617Z",
     "iopub.status.idle": "2025-09-02T04:05:55.423881Z",
     "shell.execute_reply": "2025-09-02T04:05:55.423254Z"
    },
    "papermill": {
     "duration": 0.113016,
     "end_time": "2025-09-02T04:05:55.424957",
     "exception": false,
     "start_time": "2025-09-02T04:05:55.311941",
     "status": "completed"
    },
    "tags": []
   },
   "outputs": [
    {
     "data": {
      "image/png": "[encoded data removed]",
      "text/plain": [
       "<Figure size 1000x800 with 1 Axes>"
      ]
     },
     "metadata": {},
     "output_type": "display_data"
    }
   ],
   "source": [
    "# Plot the box plot\n",
    "fig, ax = plt.subplots(figsize=(10,8))\n",
    "\n",
    "ax.boxplot(no_out_CompYear['ConvertedCompYearly'])\n",
    "ax.set_title(\"Box Plot of Yearly Compensation\")\n",
    "ax.set_ylabel(\"Yearly Compensation\")\n",
    "plt.show()"
   ]
  },
  {
   "cell_type": "markdown",
   "id": "cf94208a",
   "metadata": {
    "papermill": {
     "duration": 0.006983,
     "end_time": "2025-09-02T04:05:55.439483",
     "exception": false,
     "start_time": "2025-09-02T04:05:55.432500",
     "status": "completed"
    },
    "tags": []
   },
   "source": [
    "The plot shows some outliers since the ranges are different from the original data. We can see that the median is probably around 60000. "
   ]
  },
  {
   "cell_type": "markdown",
   "id": "2cb30ce0",
   "metadata": {
    "papermill": {
     "duration": 0.006874,
     "end_time": "2025-09-02T04:05:55.453630",
     "exception": false,
     "start_time": "2025-09-02T04:05:55.446756",
     "status": "completed"
    },
    "tags": []
   },
   "source": [
    "### Yearly Compensation by Dev Type\n",
    "\n",
    "Let's dive a little deeper and explore how a box plot will look like for the top 5 developer types (`DevType`)."
   ]
  },
  {
   "cell_type": "code",
   "execution_count": 19,
   "id": "5060736a",
   "metadata": {
    "execution": {
     "iopub.execute_input": "2025-09-02T04:05:55.469100Z",
     "iopub.status.busy": "2025-09-02T04:05:55.468809Z",
     "iopub.status.idle": "2025-09-02T04:05:55.472481Z",
     "shell.execute_reply": "2025-09-02T04:05:55.471835Z"
    },
    "papermill": {
     "duration": 0.012849,
     "end_time": "2025-09-02T04:05:55.473735",
     "exception": false,
     "start_time": "2025-09-02T04:05:55.460886",
     "status": "completed"
    },
    "tags": []
   },
   "outputs": [],
   "source": [
    "# Create a cursor to execute a query\n",
    "cursor = conn.cursor()"
   ]
  },
  {
   "cell_type": "code",
   "execution_count": 20,
   "id": "df733644",
   "metadata": {
    "execution": {
     "iopub.execute_input": "2025-09-02T04:05:55.490174Z",
     "iopub.status.busy": "2025-09-02T04:05:55.489917Z",
     "iopub.status.idle": "2025-09-02T04:05:55.508368Z",
     "shell.execute_reply": "2025-09-02T04:05:55.507666Z"
    },
    "papermill": {
     "duration": 0.027814,
     "end_time": "2025-09-02T04:05:55.509428",
     "exception": false,
     "start_time": "2025-09-02T04:05:55.481614",
     "status": "completed"
    },
    "tags": []
   },
   "outputs": [
    {
     "data": {
      "text/plain": [
       "<sqlite3.Cursor at 0x792472bb30c0>"
      ]
     },
     "execution_count": 20,
     "metadata": {},
     "output_type": "execute_result"
    }
   ],
   "source": [
    "# Query to find the top 5 dev types\n",
    "# Store the result in a new view\n",
    "QUERY = \"\"\"\n",
    "CREATE VIEW Top5Dev AS \n",
    "SELECT DevType, COUNT(*) AS 'Count'\n",
    "FROM noOutCompY\n",
    "WHERE DevType IS NOT NULL\n",
    "GROUP BY DevType\n",
    "ORDER BY Count DESC\n",
    "LIMIT 5;\n",
    "\"\"\"\n",
    "\n",
    "# Execute the query\n",
    "cursor.execute(QUERY)"
   ]
  },
  {
   "cell_type": "code",
   "execution_count": 21,
   "id": "83edcecd",
   "metadata": {
    "execution": {
     "iopub.execute_input": "2025-09-02T04:05:55.525663Z",
     "iopub.status.busy": "2025-09-02T04:05:55.525349Z",
     "iopub.status.idle": "2025-09-02T04:05:55.543885Z",
     "shell.execute_reply": "2025-09-02T04:05:55.543260Z"
    },
    "papermill": {
     "duration": 0.027597,
     "end_time": "2025-09-02T04:05:55.544909",
     "exception": false,
     "start_time": "2025-09-02T04:05:55.517312",
     "status": "completed"
    },
    "tags": []
   },
   "outputs": [
    {
     "data": {
      "text/html": [
       "<div>\n",
       "<style scoped>\n",
       "    .dataframe tbody tr th:only-of-type {\n",
       "        vertical-align: middle;\n",
       "    }\n",
       "\n",
       "    .dataframe tbody tr th {\n",
       "        vertical-align: top;\n",
       "    }\n",
       "\n",
       "    .dataframe thead th {\n",
       "        text-align: right;\n",
       "    }\n",
       "</style>\n",
       "<table border=\"1\" class=\"dataframe\">\n",
       "  <thead>\n",
       "    <tr style=\"text-align: right;\">\n",
       "      <th></th>\n",
       "      <th>DevType</th>\n",
       "      <th>Count</th>\n",
       "    </tr>\n",
       "  </thead>\n",
       "  <tbody>\n",
       "    <tr>\n",
       "      <th>0</th>\n",
       "      <td>Developer, full-stack</td>\n",
       "      <td>8049</td>\n",
       "    </tr>\n",
       "    <tr>\n",
       "      <th>1</th>\n",
       "      <td>Developer, back-end</td>\n",
       "      <td>4519</td>\n",
       "    </tr>\n",
       "    <tr>\n",
       "      <th>2</th>\n",
       "      <td>Developer, front-end</td>\n",
       "      <td>1381</td>\n",
       "    </tr>\n",
       "    <tr>\n",
       "      <th>3</th>\n",
       "      <td>Developer, desktop or enterprise applications</td>\n",
       "      <td>1019</td>\n",
       "    </tr>\n",
       "    <tr>\n",
       "      <th>4</th>\n",
       "      <td>Developer, mobile</td>\n",
       "      <td>776</td>\n",
       "    </tr>\n",
       "  </tbody>\n",
       "</table>\n",
       "</div>"
      ],
      "text/plain": [
       "                                         DevType  Count\n",
       "0                          Developer, full-stack   8049\n",
       "1                            Developer, back-end   4519\n",
       "2                           Developer, front-end   1381\n",
       "3  Developer, desktop or enterprise applications   1019\n",
       "4                              Developer, mobile    776"
      ]
     },
     "execution_count": 21,
     "metadata": {},
     "output_type": "execute_result"
    }
   ],
   "source": [
    "# Preview the created view\n",
    "pd.read_sql(\"SELECT * FROM Top5Dev\", conn)"
   ]
  },
  {
   "cell_type": "code",
   "execution_count": 22,
   "id": "d4821553",
   "metadata": {
    "execution": {
     "iopub.execute_input": "2025-09-02T04:05:55.561335Z",
     "iopub.status.busy": "2025-09-02T04:05:55.561090Z",
     "iopub.status.idle": "2025-09-02T04:05:55.597464Z",
     "shell.execute_reply": "2025-09-02T04:05:55.596687Z"
    },
    "papermill": {
     "duration": 0.046068,
     "end_time": "2025-09-02T04:05:55.598795",
     "exception": false,
     "start_time": "2025-09-02T04:05:55.552727",
     "status": "completed"
    },
    "tags": []
   },
   "outputs": [],
   "source": [
    "# Query for the top 5 developers types and their compensation\n",
    "QUERY = \"\"\"\n",
    "SELECT DevType, ConvertedCompYearly\n",
    "FROM noOutCompY \n",
    "WHERE DevType in (SELECT DevType FROM Top5Dev)\n",
    "\"\"\"\n",
    "\n",
    "# Read the query to a df\n",
    "top5_dev = pd.read_sql(QUERY, conn)"
   ]
  },
  {
   "cell_type": "code",
   "execution_count": 23,
   "id": "db526825",
   "metadata": {
    "execution": {
     "iopub.execute_input": "2025-09-02T04:05:55.615248Z",
     "iopub.status.busy": "2025-09-02T04:05:55.614998Z",
     "iopub.status.idle": "2025-09-02T04:05:55.796935Z",
     "shell.execute_reply": "2025-09-02T04:05:55.795629Z"
    },
    "papermill": {
     "duration": 0.191527,
     "end_time": "2025-09-02T04:05:55.798194",
     "exception": false,
     "start_time": "2025-09-02T04:05:55.606667",
     "status": "completed"
    },
    "tags": []
   },
   "outputs": [
    {
     "data": {
      "image/png": "[encoded data removed]",
      "text/plain": [
       "<Figure size 1000x800 with 1 Axes>"
      ]
     },
     "metadata": {},
     "output_type": "display_data"
    }
   ],
   "source": [
    "# Plot the box plots\n",
    "fig, ax = plt.subplots(figsize=(10,8))\n",
    "sns.boxplot(top5_dev, x='ConvertedCompYearly',y='DevType',hue='DevType', ax = ax, dodge = False)\n",
    "ax.set_title(\"Box Plots of Yearly Compensation by Dev Type\")\n",
    "ax.set_ylabel(\"Developer Type\")\n",
    "ax.set_xlabel(\"Yearly Compensation\", labelpad=10)\n",
    "ax.get_legend().remove()\n",
    "\n",
    "plt.show()"
   ]
  },
  {
   "cell_type": "markdown",
   "id": "b07d3ac2",
   "metadata": {
    "papermill": {
     "duration": 0.008183,
     "end_time": "2025-09-02T04:05:55.815111",
     "exception": false,
     "start_time": "2025-09-02T04:05:55.806928",
     "status": "completed"
    },
    "tags": []
   },
   "source": [
    "It seems like there isn't really a huge apparent difference between the dev types. The median yearly compensation for each dev type is around 50000-60000. "
   ]
  },
  {
   "cell_type": "markdown",
   "id": "03cd4065",
   "metadata": {
    "papermill": {
     "duration": 0.008199,
     "end_time": "2025-09-02T04:05:55.831629",
     "exception": false,
     "start_time": "2025-09-02T04:05:55.823430",
     "status": "completed"
    },
    "tags": []
   },
   "source": [
    "## Close the Connection"
   ]
  },
  {
   "cell_type": "code",
   "execution_count": 24,
   "id": "e852e0ee",
   "metadata": {
    "execution": {
     "iopub.execute_input": "2025-09-02T04:05:55.849618Z",
     "iopub.status.busy": "2025-09-02T04:05:55.849311Z",
     "iopub.status.idle": "2025-09-02T04:05:55.854431Z",
     "shell.execute_reply": "2025-09-02T04:05:55.853321Z"
    },
    "papermill": {
     "duration": 0.016175,
     "end_time": "2025-09-02T04:05:55.856229",
     "exception": false,
     "start_time": "2025-09-02T04:05:55.840054",
     "status": "completed"
    },
    "tags": []
   },
   "outputs": [],
   "source": [
    "# Remember to close the connection with the database at the end\n",
    "conn.close()"
   ]
  }
 ],
 "metadata": {
  "kaggle": {
   "accelerator": "none",
   "dataSources": [
    {
     "datasetId": 8185365,
     "sourceId": 12935203,
     "sourceType": "datasetVersion"
    },
    {
     "datasetId": 8186025,
     "sourceId": 12936321,
     "sourceType": "datasetVersion"
    }
   ],
   "dockerImageVersionId": 31089,
   "isGpuEnabled": false,
   "isInternetEnabled": true,
   "language": "python",
   "sourceType": "notebook"
  },
  "kernelspec": {
   "display_name": "Python 3",
   "language": "python",
   "name": "python3"
  },
  "language_info": {
   "codemirror_mode": {
    "name": "ipython",
    "version": 3
   },
   "file_extension": ".py",
   "mimetype": "text/x-python",
   "name": "python",
   "nbconvert_exporter": "python",
   "pygments_lexer": "ipython3",
   "version": "3.11.13"
  },
  "papermill": {
   "default_parameters": {},
   "duration": 13.983151,
   "end_time": "2025-09-02T04:05:56.685539",
   "environment_variables": {},
   "exception": null,
   "input_path": "__notebook__.ipynb",
   "output_path": "__notebook__.ipynb",
   "parameters": {},
   "start_time": "2025-09-02T04:05:42.702388",
   "version": "2.6.0"
  }
 },
 "nbformat": 4,
 "nbformat_minor": 5
}
